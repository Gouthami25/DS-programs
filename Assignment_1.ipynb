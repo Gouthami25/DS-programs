{
  "nbformat": 4,
  "nbformat_minor": 0,
  "metadata": {
    "colab": {
      "name": "Assignment 1",
      "provenance": [],
      "authorship_tag": "ABX9TyPA6qmuCM6siD0bYU/YlcGO",
      "include_colab_link": true
    },
    "kernelspec": {
      "name": "python3",
      "display_name": "Python 3"
    }
  },
  "cells": [
    {
      "cell_type": "markdown",
      "metadata": {
        "id": "view-in-github",
        "colab_type": "text"
      },
      "source": [
        "<a href=\"https://colab.research.google.com/github/Gouthami25/DS-programs/blob/master/Assignment_1.ipynb\" target=\"_parent\"><img src=\"https://colab.research.google.com/assets/colab-badge.svg\" alt=\"Open In Colab\"/></a>"
      ]
    },
    {
      "cell_type": "markdown",
      "metadata": {
        "id": "xid5Ybh4JtU6",
        "colab_type": "text"
      },
      "source": [
        "Write a python program to print the following string in a specific format (see the output). Sample string :\"Twinkle,twinkle,little star,How i wonder what you are! Up above the world so high like a diomond in the sky .Twinkle,twinkle,little star,how i wonder what you are\""
      ]
    },
    {
      "cell_type": "code",
      "metadata": {
        "id": "065CbPLTJudc",
        "colab_type": "code",
        "colab": {
          "base_uri": "https://localhost:8080/",
          "height": 141
        },
        "outputId": "0f9ae7ab-6683-436b-d34c-56a381bb8413"
      },
      "source": [
        " print(\"Twinkle, twinkle, little star, \\n\\tHow I wonder what you are! \\n\\t\\tUp above the world so high, \\n\\t\\tLike a diamond in the sky. \\nTwinkle, twinkle, little star, \\n\\tHow I wonder what you are\")"
      ],
      "execution_count": 1,
      "outputs": [
        {
          "output_type": "stream",
          "text": [
            "Twinkle, twinkle, little star, \n",
            "\tHow I wonder what you are! \n",
            "\t\tUp above the world so high, \n",
            "\t\tLike a diamond in the sky. \n",
            "Twinkle, twinkle, little star, \n",
            "\tHow I wonder what you are\n"
          ],
          "name": "stdout"
        }
      ]
    },
    {
      "cell_type": "markdown",
      "metadata": {
        "id": "hHXZl3ncKWn9",
        "colab_type": "text"
      },
      "source": [
        " Write a python program to test whether a number is within 100 of 1000 or 2000."
      ]
    },
    {
      "cell_type": "code",
      "metadata": {
        "id": "KI6dyGhCKYYo",
        "colab_type": "code",
        "colab": {
          "base_uri": "https://localhost:8080/",
          "height": 86
        },
        "outputId": "6d9396c2-5417-4afb-f08b-a2e2ce499300"
      },
      "source": [
        " def near_thousand(n):\n",
        "      return ((abs(1000 - n) <= 100) or (abs(2000 - n) <= 100))\n",
        "print(near_thousand(1000))\n",
        "print(near_thousand(900))\n",
        "print(near_thousand(300))   \n",
        "print(near_thousand(2300))"
      ],
      "execution_count": 2,
      "outputs": [
        {
          "output_type": "stream",
          "text": [
            "True\n",
            "True\n",
            "False\n",
            "False\n"
          ],
          "name": "stdout"
        }
      ]
    },
    {
      "cell_type": "markdown",
      "metadata": {
        "id": "Yqu2o73XKnks",
        "colab_type": "text"
      },
      "source": [
        " Write a python program to calculate the sum of three given numbers,if the values are equal then return three of their sum."
      ]
    },
    {
      "cell_type": "code",
      "metadata": {
        "id": "LF4MflgqKojK",
        "colab_type": "code",
        "colab": {
          "base_uri": "https://localhost:8080/",
          "height": 51
        },
        "outputId": "8488d2a3-0e21-4ad4-9e23-3c1a10894cad"
      },
      "source": [
        " def sum_thrice(x, y, z):\n",
        "     sum = x + y + z\n",
        "     if x == y == z:\n",
        "      sum = sum * 3\n",
        "     return sum\n",
        "print(sum_thrice(1, 2, 3))\n",
        "print(sum_thrice(1, 6, 2))"
      ],
      "execution_count": 3,
      "outputs": [
        {
          "output_type": "stream",
          "text": [
            "6\n",
            "9\n"
          ],
          "name": "stdout"
        }
      ]
    },
    {
      "cell_type": "markdown",
      "metadata": {
        "id": "SXHCJUt1K2m4",
        "colab_type": "text"
      },
      "source": [
        " Write a python program to find whatever a given number(accept from the user) is even or odd , print out an appropriate message to the user."
      ]
    },
    {
      "cell_type": "code",
      "metadata": {
        "id": "W8W7ZphTK8_Y",
        "colab_type": "code",
        "colab": {
          "base_uri": "https://localhost:8080/",
          "height": 51
        },
        "outputId": "fefef4d0-d885-49a7-e795-17e2db20bd5c"
      },
      "source": [
        " num = int(input(\"Enter a number: \"))\n",
        "mod = num % 2\n",
        "if mod > 0:\n",
        "    print(\"The given number is odd number.\")\n",
        "else:\n",
        "    print(\"the given number is even number.\")"
      ],
      "execution_count": 4,
      "outputs": [
        {
          "output_type": "stream",
          "text": [
            "Enter a number: 2\n",
            "the given number is even number.\n"
          ],
          "name": "stdout"
        }
      ]
    },
    {
      "cell_type": "markdown",
      "metadata": {
        "id": "2OTYNQPvLccA",
        "colab_type": "text"
      },
      "source": [
        " Write a python program to get a string made of the first 2 and the last 2 chars from a given string .if the string length is less than 2,return instead of the empty string."
      ]
    },
    {
      "cell_type": "code",
      "metadata": {
        "id": "Nxg3O2lYLdau",
        "colab_type": "code",
        "colab": {
          "base_uri": "https://localhost:8080/",
          "height": 86
        },
        "outputId": "0bad550e-fa91-4e69-fc65-5952c78f61e8"
      },
      "source": [
        " def string_both_ends(str):\n",
        "  if len(str) < 2:\n",
        "    return ''\n",
        "  return str[0:2] + str[-2:]\n",
        "print(string_both_ends('gouthami'))\n",
        "print(string_both_ends('gouth'))\n",
        "print(string_both_ends('go'))\n",
        "print(string_both_ends('g'))"
      ],
      "execution_count": 6,
      "outputs": [
        {
          "output_type": "stream",
          "text": [
            "gomi\n",
            "goth\n",
            "gogo\n",
            "\n"
          ],
          "name": "stdout"
        }
      ]
    },
    {
      "cell_type": "markdown",
      "metadata": {
        "id": "l4wtICX1Meli",
        "colab_type": "text"
      },
      "source": [
        " Write a python program to get a single string from two given strings ,seperated by a space and swap the first two characters of each strings"
      ]
    },
    {
      "cell_type": "code",
      "metadata": {
        "id": "2l5TXiyUMy4v",
        "colab_type": "code",
        "colab": {
          "base_uri": "https://localhost:8080/",
          "height": 34
        },
        "outputId": "52fecd19-5f5e-458f-a407-42fc0c1bb51a"
      },
      "source": [
        " def chars_mix_up(a, b):\n",
        "  new_a = b[:2] + a[2:]\n",
        "  new_b = a[:2] + b[2:]\n",
        " \n",
        "  return new_a + ' ' + new_b\n",
        "print(chars_mix_up('mom', 'dad'))"
      ],
      "execution_count": 7,
      "outputs": [
        {
          "output_type": "stream",
          "text": [
            "dam mod\n"
          ],
          "name": "stdout"
        }
      ]
    },
    {
      "cell_type": "markdown",
      "metadata": {
        "id": "LCvBTrMgM7Pl",
        "colab_type": "text"
      },
      "source": [
        " Write a python program to find apperance of the substring 'not' and 'poor' from a given string ,if 'not' follows the 'poor',replace the whole 'not'...'poor' substring with 'good"
      ]
    },
    {
      "cell_type": "code",
      "metadata": {
        "id": "b1rJaa3XM8tg",
        "colab_type": "code",
        "colab": {
          "base_uri": "https://localhost:8080/",
          "height": 51
        },
        "outputId": "16abfe93-2b49-46d9-d6d6-bc2ef7e69db5"
      },
      "source": [
        " def not_poor(str1):\n",
        "  snot = str1.find('not')\n",
        "  spoor = str1.find('poor')\n",
        "  if spoor > snot and snot>0 and spoor>0:\n",
        "    str1 = str1.replace(str1[snot:(spoor+4)], 'good')\n",
        "    return str1\n",
        "  else:\n",
        "    return str1\n",
        "print(not_poor('The lyrics is not that poor!'))\n",
        "print(not_poor('The lyrics is poor!'))"
      ],
      "execution_count": 8,
      "outputs": [
        {
          "output_type": "stream",
          "text": [
            "The lyrics is good!\n",
            "The lyrics is poor!\n"
          ],
          "name": "stdout"
        }
      ]
    },
    {
      "cell_type": "markdown",
      "metadata": {
        "id": "i51NQSEqNIC2",
        "colab_type": "text"
      },
      "source": [
        " Write a python program to reverse a string if its length is a multiple of 4."
      ]
    },
    {
      "cell_type": "code",
      "metadata": {
        "id": "9qP40pOCNI3i",
        "colab_type": "code",
        "colab": {
          "base_uri": "https://localhost:8080/",
          "height": 69
        },
        "outputId": "380e7207-3df2-4f2e-ba48-5aafa050c62a"
      },
      "source": [
        " def reverse_string(str1):\n",
        "    if len(str1) % 4 == 0:\n",
        "       return ''.join(reversed(str1))\n",
        "    return str1\n",
        "print(reverse_string('gout'))\n",
        "print(reverse_string('gouthami'))\n",
        "print(reverse_string('d.gouthami'))"
      ],
      "execution_count": 9,
      "outputs": [
        {
          "output_type": "stream",
          "text": [
            "tuog\n",
            "imahtuog\n",
            "d.gouthami\n"
          ],
          "name": "stdout"
        }
      ]
    },
    {
      "cell_type": "markdown",
      "metadata": {
        "id": "NFdqhFWGNl-0",
        "colab_type": "text"
      },
      "source": [
        " Write a python function to convert all units of time into seconds."
      ]
    },
    {
      "cell_type": "code",
      "metadata": {
        "id": "XahK52_pNm3F",
        "colab_type": "code",
        "colab": {
          "base_uri": "https://localhost:8080/",
          "height": 103
        },
        "outputId": "1cc5f653-c371-4bca-e433-b8c1142b2a61"
      },
      "source": [
        " days = int(input(\"Input days: \")) * 3600 * 24\n",
        "hours = int(input(\"Input hours: \")) * 3600\n",
        "minutes = int(input(\"Input minutes: \")) * 60\n",
        "seconds = int(input(\"Input seconds: \"))\n",
        "time = days + hours + minutes + seconds\n",
        "print(\"The total seconds is: \", time)"
      ],
      "execution_count": 10,
      "outputs": [
        {
          "output_type": "stream",
          "text": [
            "Input days: 365\n",
            "Input hours: 24\n",
            "Input minutes: 60\n",
            "Input seconds: 60\n",
            "The total seconds is:  31626060\n"
          ],
          "name": "stdout"
        }
      ]
    },
    {
      "cell_type": "markdown",
      "metadata": {
        "id": "W9ROFuVvOSXf",
        "colab_type": "text"
      },
      "source": [
        " Write a python program to sort three integers without using conditional statements and loops."
      ]
    },
    {
      "cell_type": "code",
      "metadata": {
        "id": "WghT-_GSOTOT",
        "colab_type": "code",
        "colab": {
          "base_uri": "https://localhost:8080/",
          "height": 86
        },
        "outputId": "b9337397-ac6b-4a41-cdc4-518b5997ebcb"
      },
      "source": [
        "x = int(input(\"Input first number: \"))\n",
        "y = int(input(\"Input second number: \"))\n",
        "z = int(input(\"Input third number: \"))\n",
        "a1 = min(x, y, z)\n",
        "a3 = max(x, y, z)\n",
        "a2 = (x + y + z) - a1 - a3\n",
        "print(\"Numbers in sorted order: \", a1, a2, a3)"
      ],
      "execution_count": 13,
      "outputs": [
        {
          "output_type": "stream",
          "text": [
            "Input first number: 1\n",
            "Input second number: 6\n",
            "Input third number: 2\n",
            "Numbers in sorted order:  1 2 6\n"
          ],
          "name": "stdout"
        }
      ]
    },
    {
      "cell_type": "markdown",
      "metadata": {
        "id": "2_iehk_5Pj4s",
        "colab_type": "text"
      },
      "source": [
        " Write a python program to get the details of the math module."
      ]
    },
    {
      "cell_type": "code",
      "metadata": {
        "id": "xOyDMMkhPkpt",
        "colab_type": "code",
        "colab": {
          "base_uri": "https://localhost:8080/",
          "height": 54
        },
        "outputId": "2ce54108-79c6-48fa-a875-c2e7718c0eac"
      },
      "source": [
        " import math            \n",
        "math_ls = dir(math) \n",
        "print(math_ls)"
      ],
      "execution_count": 14,
      "outputs": [
        {
          "output_type": "stream",
          "text": [
            "['__doc__', '__loader__', '__name__', '__package__', '__spec__', 'acos', 'acosh', 'asin', 'asinh', 'atan', 'atan2', 'atanh', 'ceil', 'copysign', 'cos', 'cosh', 'degrees', 'e', 'erf', 'erfc', 'exp', 'expm1', 'fabs', 'factorial', 'floor', 'fmod', 'frexp', 'fsum', 'gamma', 'gcd', 'hypot', 'inf', 'isclose', 'isfinite', 'isinf', 'isnan', 'ldexp', 'lgamma', 'log', 'log10', 'log1p', 'log2', 'modf', 'nan', 'pi', 'pow', 'radians', 'sin', 'sinh', 'sqrt', 'tan', 'tanh', 'tau', 'trunc']\n"
          ],
          "name": "stdout"
        }
      ]
    },
    {
      "cell_type": "markdown",
      "metadata": {
        "id": "gIScB09aPyWG",
        "colab_type": "text"
      },
      "source": [
        " Write a python program to concatenate N strings."
      ]
    },
    {
      "cell_type": "code",
      "metadata": {
        "id": "BZJge-ZTP6QI",
        "colab_type": "code",
        "colab": {
          "base_uri": "https://localhost:8080/",
          "height": 69
        },
        "outputId": "4c611f80-edf2-43d5-cc62-473776f26391"
      },
      "source": [
        " list_of_colors = ['violet', 'indigo', 'blue']  \n",
        "colors = '-'.join(list_of_colors)\n",
        "print()\n",
        "print(\"All Colors: \"+colors)\n",
        "print()"
      ],
      "execution_count": 15,
      "outputs": [
        {
          "output_type": "stream",
          "text": [
            "\n",
            "All Colors: violet-indigo-blue\n",
            "\n"
          ],
          "name": "stdout"
        }
      ]
    }
  ]
}